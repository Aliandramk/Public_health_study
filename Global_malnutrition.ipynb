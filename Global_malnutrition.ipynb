{
 "cells": [
  {
   "cell_type": "code",
   "execution_count": 1,
   "id": "335ff5ae",
   "metadata": {},
   "outputs": [],
   "source": [
    "import pandas as pd\n",
    "\n",
    "#Getting rid of \"Try using .loc[row_indexer,col_indexer] = value instead\" warning\n",
    "pd.options.mode.chained_assignment = None  # default='warn'\n",
    "\n",
    "#Formating display due to some results being too big to display correctly with default settings\n",
    "pd.set_option('display.float_format',  '{:,.2f}'.format)"
   ]
  },
  {
   "cell_type": "markdown",
   "id": "6067b7c5",
   "metadata": {},
   "source": [
    "<b>Data Discovery - Task 2.1: Identify the primary key of each table and test them.<b>"
   ]
  },
  {
   "cell_type": "code",
   "execution_count": 2,
   "id": "7dced462",
   "metadata": {
    "scrolled": true
   },
   "outputs": [],
   "source": [
    "#Cell for importing all FAO data\n",
    "\n",
    "#animal products dataframe:\n",
    "ap=pd.read_csv(r\"C:\\Users\\Blagoj\\Documents\\Openclassrooms\\Project 4\\Animal products.csv\")\n",
    "\n",
    "#Setting a custom primary key for the animal products dframe:\n",
    "ap.set_index(['Area Code (M49)', 'Element Code', 'Item Code (CPC)', 'Year Code'], inplace=True, verify_integrity=True)\n",
    "#inplace True assigns the data in place\n",
    "#verify_integrity checks the new custom index for duplicates\n",
    "#ap.index.value_counts() can be used to count the unique values of the index thus confirming that PK contains no duplicates\n",
    "#primary key can also be found with itertools (only figured this after I manually identified the PK)\n",
    "\n",
    "#vegetal products dataframe\n",
    "vp=pd.read_csv(r\"C:\\Users\\Blagoj\\Documents\\Openclassrooms\\Project 4\\Vegetal products.csv\")\n",
    "\n",
    "#Setting a custom primary key for the vegetal products dframe:\n",
    "vp.set_index(['Area Code (M49)', 'Element Code', 'Item Code (CPC)', 'Year Code'], inplace=True, verify_integrity=True)\n",
    "\n",
    "# Adds variable ‘origin’\n",
    "ap[\"origin\"] = \"animal\"\n",
    "vp[\"origin\"] = \"vegetal\"\n",
    "#combined dframe for all food products regardless whether they are animal or vegetal:\n",
    "comb=pd.concat([ap,vp])\n",
    "\n",
    "#population dataframe:\n",
    "pop=pd.read_csv(r\"C:\\Users\\Blagoj\\Documents\\Openclassrooms\\Project 4\\Population.csv\")\n",
    "\n",
    "#undernourished dataframe\n",
    "un=pd.read_csv(r\"C:\\Users\\Blagoj\\Documents\\Openclassrooms\\Project 4\\Undernourishment.csv\")\n",
    "\n",
    "#cereals dataframe\n",
    "cer=pd.read_csv(r\"C:\\Users\\Blagoj\\Documents\\Openclassrooms\\Project 4\\Cereals.csv\")"
   ]
  },
  {
   "cell_type": "markdown",
   "id": "20874ff4",
   "metadata": {},
   "source": [
    "<b>Data Discovery - Task 2.2: Create a dataframe containing information about each country's population. Calculate the total number of humans on the planet.<b>"
   ]
  },
  {
   "cell_type": "code",
   "execution_count": 3,
   "id": "fececedd",
   "metadata": {},
   "outputs": [
    {
     "name": "stdout",
     "output_type": "stream",
     "text": [
      "Value   7,652,392,110.00\n",
      "dtype: float64\n"
     ]
    }
   ],
   "source": [
    "#Creation of a dframe without lines from previous years and without manual input lines in order to avoid duplicates (China).\n",
    "newpop=pop.loc[(pop['Year']==2019)& (pop['Flag']==\"X\")]\n",
    "#Summing up the whole population. \n",
    "totalpop=newpop.iloc[:,11:12].sum()*1000\n",
    "\n",
    "#Could simply calculate the total population with the following line without creating a new dframe:\n",
    "#totalpop=pop.loc[(pop['Year']==2019) & (pop['Flag']==\"X\"),['Value']].sum()*1000\n",
    "\n",
    "print(totalpop)"
   ]
  },
  {
   "cell_type": "markdown",
   "id": "d1eebcc6",
   "metadata": {},
   "source": [
    "<b>Data Discovery - Task 2.3a: Laura: \"Okay… this does not seem easy! Production, Import Quantity, Export Quantity, Feed, Losses, Domestic Supply...wait- isn't Domestic Supply the difference between imports and exports?\"\n",
    "\n",
    "<b>You: \"Uh...I’m not so sure...\"\n",
    "\n",
    "<b>Laura: \"Okay. Would you check that for me please? And what are all the available elements?\"<b>"
   ]
  },
  {
   "cell_type": "code",
   "execution_count": 4,
   "id": "340eac9a",
   "metadata": {},
   "outputs": [
    {
     "name": "stdout",
     "output_type": "stream",
     "text": [
      "There are 17 unique values. They are:\n",
      "['Domestic supply quantity', 'Export Quantity', 'Fat supply quantity (g/capita/day)', 'Feed', 'Food', 'Food supply (kcal/capita/day)', 'Food supply quantity (kg/capita/yr)', 'Import Quantity', 'Losses', 'Other uses (non-food)', 'Processing', 'Production', 'Protein supply quantity (g/capita/day)', 'Residuals', 'Seed', 'Stock Variation', 'Tourist consumption']\n"
     ]
    }
   ],
   "source": [
    "#Counting the unique values in the 'Element' column:\n",
    "print(\"There are \" + str(comb['Element'].nunique()) + \" unique values. They are:\")\n",
    "#Listing all of the unique values in the 'Element' column:\n",
    "print(sorted(comb[\"Element\"].unique()))"
   ]
  },
  {
   "cell_type": "markdown",
   "id": "26db9277",
   "metadata": {},
   "source": [
    "<b>Data Discovery - Task 2.3b: Among the documents on the Food Balance Sheets that you have downloaded, you will find redundant information concerning the 11 elements.  Identify these redundancies and give your answer as a mathematical formula. Have a look at the Food Balance Sheets then click on “definitions and standards”<b>\n",
    "\n",
    "<b>The expected formula is a simple three term equation involving each of the 11 amounts seen above:  a1+a2+[...]=b1+[...]=c1+c2+[...] . For this equation, give the example of wheat in France.<b>"
   ]
  },
  {
   "cell_type": "code",
   "execution_count": 5,
   "id": "9b8c17dd",
   "metadata": {},
   "outputs": [
    {
     "name": "stdout",
     "output_type": "stream",
     "text": [
      "The sum of the main elements concerning movement is: 20338\n",
      "The domestic supply value is: 20338\n",
      "The sum of all elements concerning the usage is: 20338\n"
     ]
    }
   ],
   "source": [
    "#Production + imports - exports + changes in stocks (decrease or increase) = supply for \n",
    "#domestic utilization in the new methodology.\n",
    "\n",
    "#For this equation, give the example of wheat in France.\n",
    "\n",
    "#Calculating and printing the difference between the sum of Production & Import Quantity and the sum of \n",
    "#Export Quantity and Stock Variation.\n",
    "newvp=vp.loc[(vp['Area']=='France') & (vp['Item']=='Wheat and products') & (vp['Year']==2019)]\n",
    "b=newvp.loc[newvp['Element'].isin(['Production', 'Import Quantity']),\n",
    "['Value']].sum()-newvp.loc[newvp['Element'].isin(['Export Quantity','Stock Variation']),['Value']].sum()\n",
    "print(f\"The sum of the main elements concerning movement is: {int(b):.0f}\")\n",
    "\n",
    "#Printing the value of the Domestic supply quantity\n",
    "a=newvp.loc[newvp['Element'].isin(['Domestic supply quantity']),['Value']].sum()\n",
    "print(f\"The domestic supply value is: {int(a):.0f}\")\n",
    "\n",
    "#Printing the sum of all of the remaining elements to confirm that:\n",
    "#The expected formula is a simple three term equation involving each of the 11 amounts seen above:\n",
    "#a1+a2+[...]=b1+[...]=c1+c2+[...] .\n",
    "c=newvp.loc[newvp['Element'].isin(['Feed', 'Seed', 'Losses', 'Processing', 'Other uses (non-food)', 'Residuals', \n",
    "'Food', 'Tourist consumption']),['Value']].sum()\n",
    "print(f\"The sum of all elements concerning the usage is: {int(c):.0f}\")\n",
    "\n",
    "#We can see that the three results are the same confirming the expected three term equation."
   ]
  },
  {
   "cell_type": "code",
   "execution_count": 6,
   "id": "1e4b9c22",
   "metadata": {},
   "outputs": [
    {
     "name": "stdout",
     "output_type": "stream",
     "text": [
      "True\n"
     ]
    }
   ],
   "source": [
    "#Further details on the three term equation\n",
    "a1=newvp.loc[(newvp['Element']=='Production'),['Value']].sum()\n",
    "a2=newvp.loc[(newvp['Element']=='Import Quantity'),['Value']].sum()                              \n",
    "a3=newvp.loc[(newvp['Element']=='Export Quantity'),['Value']].sum()\n",
    "a4=newvp.loc[(newvp['Element']=='Stock Variation'),['Value']].sum()\n",
    "\n",
    "b1=newvp.loc[(newvp['Element']=='Domestic supply quantity'),['Value']].sum()\n",
    "\n",
    "c1=newvp.loc[(newvp['Element']=='Feed'),['Value']].sum()\n",
    "c2=newvp.loc[(newvp['Element']=='Seed'),['Value']].sum()\n",
    "c3=newvp.loc[(newvp['Element']=='Losses'),['Value']].sum()\n",
    "c4=newvp.loc[(newvp['Element']=='Processing'),['Value']].sum()\n",
    "c5=newvp.loc[(newvp['Element']=='Other uses (non-food)'),['Value']].sum()\n",
    "c6=newvp.loc[(newvp['Element']=='Residuals'),['Value']].sum()\n",
    "c7=newvp.loc[(newvp['Element']=='Food'),['Value']].sum()\n",
    "c8=newvp.loc[(newvp['Element']=='Tourist consumption'),['Value']].sum()\n",
    "\n",
    "\n",
    "print(int(a1+a2-a3-a4)==int(b1)==int(c1+c2+c3+c4+c5+c6+c7+c8))"
   ]
  },
  {
   "cell_type": "markdown",
   "id": "bd748589",
   "metadata": {},
   "source": [
    "<b>Data cleaning - Task 3<b>"
   ]
  },
  {
   "cell_type": "code",
   "execution_count": 7,
   "id": "ffa3b0db",
   "metadata": {},
   "outputs": [],
   "source": [
    "#Renaming of combined dataframe’s columns. Flagging redundant columns\n",
    "comb.columns = [\"red\", \"red2\", \"country\", \"element\",\"item\", \"year\", \"unit\", \"value\", \"red3\", \"red4\", 'origin']\n",
    "\n",
    "#Transformation of ‘comb’ to a pivot table\n",
    "pivotcomb = comb.pivot_table(\n",
    "index=[\"country\", \"item\", \"year\", \"origin\"],\n",
    "columns = [\"element\"], values=[\"value\"], aggfunc=sum)\n",
    "\n",
    "pivotcomb.columns=['domestic_supply_quantity', 'export_quantity', 'fat_supply_quantity_gcapitaday', 'feed',\n",
    "'food', 'food_supply_kcalcapitaday', 'food_supply_quantity_kgcapitayr', 'import_quantity', 'losses', \n",
    "'other_uses', 'processing', 'production', 'protein_supply_quantity_gcapitaday', 'residuals', 'seed', \n",
    "'stock_variation', 'tourist_consumption']\n",
    "#Index columns need to be normal columns\n",
    "pivotcomb = pivotcomb.reset_index()"
   ]
  },
  {
   "cell_type": "markdown",
   "id": "5156b97f",
   "metadata": {},
   "source": [
    "<b>Computing new variables - Task 4: Preparations<b>"
   ]
  },
  {
   "cell_type": "code",
   "execution_count": 8,
   "id": "27435ea9",
   "metadata": {},
   "outputs": [],
   "source": [
    "#For easier computation of the new variables, I've decided to add population values in the main dataframe.\n",
    "\n",
    "#Joining the pivotcomb and the population tables into a single dataframe called cnv (Computing New Variables).\n",
    "cnv=pd.merge(pivotcomb, pop[['Area', 'Year', 'Value']], left_on=['country', 'year'], right_on = ['Area', 'Year'])\n",
    "#Removing the columns on which we joined\n",
    "cnv=cnv.drop(columns=['Area', 'Year'])\n",
    "#Renaming the column holding the population value\n",
    "cnv.columns = [*cnv.columns[:-1], 'population']\n",
    "#Removing China rows as they are duplicates of China split in smaller sections.\n",
    "cnv=cnv.loc[(cnv['country']!=\"China\")]"
   ]
  },
  {
   "cell_type": "markdown",
   "id": "cac3bac9",
   "metadata": {},
   "source": [
    "<b>Computing new variables - Tasks 4.1, 4.2, 4.3 and 4.4<b>"
   ]
  },
  {
   "cell_type": "code",
   "execution_count": 9,
   "id": "500d9724",
   "metadata": {},
   "outputs": [],
   "source": [
    "#4.1 - Calculating food_supply_kcal=food_supply_kcalcapitaday*365*population*1000\n",
    "cnv['food_supply_kcal'] = cnv['food_supply_kcalcapitaday']*365*cnv['population']*1000\n",
    "\n",
    "#4.1 - Calculating food_supply_kgprotein=protein_supply_quantity_gcapitaday*365*population*1000/1000\n",
    "cnv['food_supply_kgprotein'] = cnv['protein_supply_quantity_gcapitaday']*365*cnv['population'] #*1000/1000\n",
    "\n",
    "#4.2 - Calculating food_supply_kg=food*1000*1000\n",
    "cnv['food_supply_kg']=cnv['food']*1000000\n",
    "\n",
    "#4.3 - Calculating ratio_kcalkg=food_supply_kcal/food_supply_kg\n",
    "cnv['ratio_kcalkg']=cnv.apply(lambda row: (row['food_supply_kcal']/row['food_supply_kg'] if row['food_supply_kg']>0 else 0), axis=1)\n",
    "\n",
    "#4.3 - Calculating protein_percentage=food_supply_kgprotein/food_supply_kg\n",
    "cnv['protein_percentage']=cnv.apply(lambda row: (row['food_supply_kgprotein']/row['food_supply_kg'] if row['food_supply_kg']>0 else 0), axis=1)\n",
    "\n",
    "#4.4 - Calculating dom_sup_kcal=domestic_supply_quantity*1000*1000*ratio_kcalkg\n",
    "cnv['dom_sup_kcal']=cnv['domestic_supply_quantity']*1000000*cnv['ratio_kcalkg']\n",
    "\n",
    "#4.4 - Calculating dom_sup_kgprot=domestic_supply_quantity*1000*1000*protein_percentage\n",
    "cnv['dom_sum_kgprot']=cnv['domestic_supply_quantity']*1000000*cnv['protein_percentage']"
   ]
  },
  {
   "cell_type": "markdown",
   "id": "acb56b68",
   "metadata": {},
   "source": [
    "<b> Computing new variables - Task 4.5.1: From the FAO Food Security Indicators, find the countries with a malnourishment\n",
    "rate of more than 10% <b>"
   ]
  },
  {
   "cell_type": "code",
   "execution_count": 10,
   "id": "321a792a",
   "metadata": {},
   "outputs": [],
   "source": [
    "#Joining the undernourishment dframe with the main (cnv) dframe\n",
    "cnv2=pd.merge(cnv, un[['country', 'undernourishment']], on='country', how='left')"
   ]
  },
  {
   "cell_type": "markdown",
   "id": "aea59bb1",
   "metadata": {},
   "source": [
    "<b> Computing new variables - Task 4.5.2: Find the 25 most exported items (in terms of quantity) by these countries for any\n",
    "given year). <b>"
   ]
  },
  {
   "cell_type": "code",
   "execution_count": 11,
   "id": "29b7ebe0",
   "metadata": {},
   "outputs": [],
   "source": [
    "#Creating a dataframe for the top 25 exported items and their quantity.\n",
    "givenyear=2019  #Value should be either 2014 or 2019 as those are the only 2 years we are observing in our main dataframe.\n",
    "#Starting with a pivot to show us only an item and its exported quantity for a given year and for only undernourished countries.\n",
    "topitems = cnv2[(cnv2.undernourishment>0.1) & (cnv2.year==givenyear)].pivot_table(index=[\"item\"], columns = [], values=[\"export_quantity\"], aggfunc='sum')\n",
    "#Reseting index\n",
    "topitems= topitems.reset_index()\n",
    "#Renaming columns\n",
    "topitems.columns=['exported_item', 'exported_quantity']\n",
    "#Sorting the values in an ascending fashion\n",
    "topitems=topitems.sort_values(by=['exported_quantity'], ascending=False)\n",
    "#Creating a dataframe for the top 25 exported items\n",
    "top25=topitems.head(25)"
   ]
  },
  {
   "cell_type": "markdown",
   "id": "fbf9ddf7",
   "metadata": {},
   "source": [
    "<b> Computing new variables - Task 4.5.3: From the global food balance sheet data, select the 200 highest import quantities\n",
    "among these 25 items (1 import quantity = quantity of a given product imported by\n",
    "a given country over the selected year). <b>"
   ]
  },
  {
   "cell_type": "code",
   "execution_count": 12,
   "id": "682dbfed",
   "metadata": {},
   "outputs": [],
   "source": [
    "#Select lines from main dataframe where the items match those of the top25 df\n",
    "\n",
    "#Adding exported_quantity on the main frame for easier filtering later on.\n",
    "cnv3=cnv2.merge(top25, left_on='item', right_on='exported_item', how='left').drop(columns=['exported_item'])\n",
    "#Ordering the DF by import quantity for easier filtering later on.\n",
    "cnv3=cnv3.sort_values(['import_quantity'], ascending=False)\n",
    "\n",
    "#Temporary dataframe containing lines with only undernourished countries where the items are in the top25 exported list.\n",
    "temp = cnv3[(cnv3['undernourishment'] > 0.1) & (cnv3['year']==givenyear) & cnv3['exported_quantity'].notnull()]\n",
    "\n",
    "#Selecting the top 200 from the temp dframe\n",
    "top200=temp.head(200)"
   ]
  },
  {
   "cell_type": "markdown",
   "id": "53472759",
   "metadata": {},
   "source": [
    "<b> Computing new variables - Task 4.5.4: For the 200 corresponding lines in the food balance dataframe, set “True” for the\n",
    "variable, and “False” for the other lines. <b>"
   ]
  },
  {
   "cell_type": "code",
   "execution_count": 13,
   "id": "461a07b3",
   "metadata": {},
   "outputs": [
    {
     "data": {
      "text/plain": [
       "False    33195\n",
       "True       200\n",
       "Name: great_import_from_undern_countries, dtype: int64"
      ]
     },
     "execution_count": 13,
     "metadata": {},
     "output_type": "execute_result"
    }
   ],
   "source": [
    "#Joining the main cnv3 dframe with the top200 dframe by intersection (no 'on' parameter)\n",
    "#Indicator=true adds a column to the new dframe called '_merge' that holds value 'both' if the merge key appears in both dframes\n",
    "cnv4=cnv3.merge(top200, indicator=True, how='left')\n",
    "#Renaming the '_merge' column.\n",
    "cnv4=cnv4.rename(columns={'_merge':'great_import_from_undern_countries'})\n",
    "#Checking for 'both' values.\n",
    "cnv4['great_import_from_undern_countries']=cnv4['great_import_from_undern_countries'].eq('both')\n",
    "\n",
    "\"\"\"Caution : In the food balance dataframe, only 200 lines should have “True” as a value for\n",
    "the variable great_import_from_undern_countries, all the others should be “False”.\"\"\"\n",
    "#Proving that we really have only 200 rows with 'True' value\n",
    "cnv4.great_import_from_undern_countries.value_counts()"
   ]
  },
  {
   "cell_type": "markdown",
   "id": "715d7e8a",
   "metadata": {},
   "source": [
    "<b>Identify major trends - Task 5.1\n",
    "Considering only plant products, what proportion of the global domestic supply is used as :\n",
    "food, \n",
    "feed, \n",
    "losses, \n",
    "other uses\n",
    "    <b>"
   ]
  },
  {
   "cell_type": "code",
   "execution_count": 14,
   "id": "36076798",
   "metadata": {},
   "outputs": [
    {
     "name": "stdout",
     "output_type": "stream",
     "text": [
      "The proportion of the global domestic supply (considering only plant products) used as 'food' is: 43.13%\n",
      "The proportion of the global domestic supply (considering only plant products) used as 'feed' is: 13.76%\n",
      "The proportion of the global domestic supply (considering only plant products) used as 'losses' is: 5.83%\n",
      "The proportion of the global domestic supply (considering only plant products) used as 'other uses' is: 9.02%\n"
     ]
    }
   ],
   "source": [
    "#Assigning variables that we are need for calculating the requested proportions:\n",
    "totaldomsupply=cnv4.loc[cnv4['origin'].isin(['vegetal']) & (cnv4['year']==givenyear),['domestic_supply_quantity']].sum()\n",
    "totalfeed=cnv4.loc[cnv4['origin'].isin(['vegetal']) & (cnv4['year']==givenyear), ['feed']].sum()\n",
    "totalfood=cnv4.loc[cnv4['origin'].isin(['vegetal']) & (cnv4['year']==givenyear),['food']].sum()\n",
    "totallosses=cnv4.loc[cnv4['origin'].isin(['vegetal']) & (cnv4['year']==givenyear),['losses']].sum()\n",
    "totalotheruses=cnv4.loc[cnv4['origin'].isin(['vegetal']) & (cnv4['year']==givenyear),['other_uses']].sum()\n",
    "\n",
    "#Calculating the proportions\n",
    "propfood=int(totalfood)*100/int(totaldomsupply)\n",
    "print(f\"The proportion of the global domestic supply (considering only plant products) used as 'food' is: {propfood:.2f}%\")\n",
    "\n",
    "propfeed=int(totalfeed)*100/int(totaldomsupply)\n",
    "print(f\"The proportion of the global domestic supply (considering only plant products) used as 'feed' is: {propfeed:.2f}%\")\n",
    "\n",
    "proplosses=int(totallosses)*100/int(totaldomsupply)\n",
    "print(f\"The proportion of the global domestic supply (considering only plant products) used as 'losses' is: {proplosses:.2f}%\")\n",
    "\n",
    "propotheruses=int(totalotheruses)*100/int(totaldomsupply)\n",
    "print(f\"The proportion of the global domestic supply (considering only plant products) used as 'other uses' is: {propotheruses:.2f}%\")\n",
    "\n",
    "#With processing, seed, tourist consumption and residuals our percentages add up to 100% as expected from the task 2 equation."
   ]
  },
  {
   "cell_type": "markdown",
   "id": "2afc9eb5",
   "metadata": {},
   "source": [
    "<b> Identify major trends - Task 5.2: How many humans on earth could be fed if all the plant-based food supply (crops), including food and feed, was used for human consumption? Give the results in terms of calories, and protein. Express these two results as a percentage of the world's population. <b>"
   ]
  },
  {
   "cell_type": "code",
   "execution_count": 15,
   "id": "21350605",
   "metadata": {},
   "outputs": [
    {
     "name": "stdout",
     "output_type": "stream",
     "text": [
      "Result based on calories:  284.11%\n",
      "21741046912 humans could have their calories needs satisfied\n",
      "Result based on proteins:  99.99%\n",
      "7651823581 humans could have their protein needs satisfied\n"
     ]
    }
   ],
   "source": [
    "#world's population = totalpop\n",
    "#plant-base food supply = totaldomsupply\n",
    "#According to the FAO, the average minimum daily energy requirement is about 1,800 kilocalories (7,500 kJ) per person.\n",
    "kcalreq=1800\n",
    "#According to https://www.fao.org/3/aa040e/aa040e09.htm the protein need is about 50 grams per day.\n",
    "protreq=50\n",
    "\n",
    "totalkcal=cnv4.loc[cnv4['origin'].isin(['vegetal']) & (cnv4['year']==givenyear),['dom_sup_kcal']].sum()\n",
    "totalprot=cnv4.loc[cnv4['origin'].isin(['vegetal']) & (cnv4['year']==givenyear),['food_supply_kgprotein']].sum()\n",
    "\n",
    "rescal=totalkcal/365/kcalreq\n",
    "percentcal=int(rescal)*100/int(totalpop)\n",
    "print(f\"Result based on calories:  {percentcal:.2f}%\")\n",
    "print(f\"{int(rescal):.0f} humans could have their calories needs satisfied\")\n",
    "\n",
    "resprot=totalprot*1000/365/protreq\n",
    "percentprot=int(resprot)*100/int(totalpop)\n",
    "print(f\"Result based on proteins:  {percentprot:.2f}%\")\n",
    "print(f\"{int(resprot):.0f} humans could have their protein needs satisfied\")"
   ]
  },
  {
   "cell_type": "markdown",
   "id": "79deef04",
   "metadata": {},
   "source": [
    "<b>Identify major trends - Task 5.3: How many humans could be fed with the global food supply? Give the results in terms of calories and protein. Express these two results as a percentage of the world's population<b>"
   ]
  },
  {
   "cell_type": "code",
   "execution_count": 16,
   "id": "c3ab7210",
   "metadata": {},
   "outputs": [
    {
     "name": "stdout",
     "output_type": "stream",
     "text": [
      "Result based on calories: 324.84%\n",
      "24858154599 humans could have their calories needs satisfied\n",
      "Result based on proteins: 166.30%\n",
      "12726066988 humans could have their protein needs satisfied\n"
     ]
    }
   ],
   "source": [
    "#Task 5.3 same as previous (task 5.2) but no filter on vegetal, so global values.\n",
    "\n",
    "globalkcal=cnv4.loc[cnv4['year']==givenyear,['dom_sup_kcal']].sum()\n",
    "globalprot=cnv4.loc[cnv4['year']==givenyear,['food_supply_kgprotein']].sum()\n",
    "\n",
    "resglcal=globalkcal/365/kcalreq\n",
    "percentglcal=int(resglcal)*100/int(totalpop)\n",
    "print(f\"Result based on calories: {percentglcal:.2f}%\")\n",
    "print(f\"{int(resglcal):.0f} humans could have their calories needs satisfied\")\n",
    "\n",
    "resglprot=globalprot*1000/365/protreq\n",
    "percentglprot=int(resglprot)*100/int(totalpop)\n",
    "print(f\"Result based on proteins: {percentglprot:.2f}%\")\n",
    "print(f\"{int(resglprot):.0f} humans could have their protein needs satisfied\")\n"
   ]
  },
  {
   "cell_type": "markdown",
   "id": "73d5bdd6",
   "metadata": {},
   "source": [
    "<b>Identify major trends - Task 5.4: From the collected data on undernutrition, what proportion of the world's population is considered undernourished?<b>"
   ]
  },
  {
   "cell_type": "code",
   "execution_count": 17,
   "id": "4925d845",
   "metadata": {},
   "outputs": [
    {
     "name": "stdout",
     "output_type": "stream",
     "text": [
      "36.12% of the world's population is considered undernourished.\n",
      "7.59% of the world's population is considered undernourished.\n"
     ]
    }
   ],
   "source": [
    "#Sum of the total population in countries where the undernutrition is bigger than 10%.\n",
    "unpop=un.loc[(un['undernourishment']>0.1),['population']].sum()\n",
    "#Calculating the proportion\n",
    "unprop=int(unpop)*100/int(totalpop)\n",
    "print(f\"{unprop:.2f}% of the world's population is considered undernourished.\")\n",
    "#Although I've been advised to use this method, it makes no sense to me to consider the whole population of a given country as\n",
    "#undernourished just because more than 10% in said country are undernourished. So I am leaving it here just in case it's the \n",
    "#prefered method for some reason, but for me personally the calculation below is way more accurate.\n",
    "\n",
    "\n",
    "#Second manner of calculation which seems more accurate to me:\n",
    "#Sum of all undernourished people\n",
    "unsum=un.malnourished.sum()\n",
    "#Calculating the proportion\n",
    "propun=int(unsum)*100/int(totalpop)\n",
    "\n",
    "print(f\"{propun:.2f}% of the world's population is considered undernourished.\")"
   ]
  },
  {
   "cell_type": "markdown",
   "id": "94078b66",
   "metadata": {},
   "source": [
    "<b>Identify major trends - Task 5.5.1: Considering the 25 items most exported by the countries with a high rate of undernutrition, which three of them have the greatest other_uses to domestic_supply_quantity ratio and what are they used for?<b>"
   ]
  },
  {
   "cell_type": "code",
   "execution_count": 18,
   "id": "a7c7f219",
   "metadata": {},
   "outputs": [
    {
     "data": {
      "text/html": [
       "<div>\n",
       "<style scoped>\n",
       "    .dataframe tbody tr th:only-of-type {\n",
       "        vertical-align: middle;\n",
       "    }\n",
       "\n",
       "    .dataframe tbody tr th {\n",
       "        vertical-align: top;\n",
       "    }\n",
       "\n",
       "    .dataframe thead th {\n",
       "        text-align: right;\n",
       "    }\n",
       "</style>\n",
       "<table border=\"1\" class=\"dataframe\">\n",
       "  <thead>\n",
       "    <tr style=\"text-align: right;\">\n",
       "      <th></th>\n",
       "      <th>other_uses_to_domestic_supply_quantity</th>\n",
       "    </tr>\n",
       "    <tr>\n",
       "      <th>item</th>\n",
       "      <th></th>\n",
       "    </tr>\n",
       "  </thead>\n",
       "  <tbody>\n",
       "    <tr>\n",
       "      <th>Alcohol, Non-Food</th>\n",
       "      <td>1.00</td>\n",
       "    </tr>\n",
       "    <tr>\n",
       "      <th>Oilcrops Oil, Other</th>\n",
       "      <td>0.70</td>\n",
       "    </tr>\n",
       "    <tr>\n",
       "      <th>Palm Oil</th>\n",
       "      <td>0.56</td>\n",
       "    </tr>\n",
       "  </tbody>\n",
       "</table>\n",
       "</div>"
      ],
      "text/plain": [
       "                     other_uses_to_domestic_supply_quantity\n",
       "item                                                       \n",
       "Alcohol, Non-Food                                      1.00\n",
       "Oilcrops Oil, Other                                    0.70\n",
       "Palm Oil                                               0.56"
      ]
     },
     "execution_count": 18,
     "metadata": {},
     "output_type": "execute_result"
    }
   ],
   "source": [
    "\"\"\"Note : If later in the analysis, ratios such as other_uses:domestic_supply_quantity or\n",
    "feed;(food+feed) need to be calculated, first filter the food balance data in order to keep\n",
    "only these 200 lines, then group them by item (with an aggregate) in order to have a\n",
    "dataframe containing 1 line for each of the 25 products. Calculate the ratios from this\n",
    "dataframe.\"\"\"\n",
    "\n",
    "#Creating a new dframe imt (Identify Major Trends) by filtering out the False values from the main dframe\n",
    "imt=cnv4.loc[(cnv4['great_import_from_undern_countries']==True) & (cnv4['year']==givenyear)].groupby(by=['item']).sum()\n",
    "#Calculating ratio\n",
    "imt['other_uses_to_domestic_supply_quantity']=imt['other_uses']/imt['domestic_supply_quantity']\n",
    "#Sorting values in descending manner\n",
    "imt=imt.sort_values(by=['other_uses_to_domestic_supply_quantity'], ascending=False)\n",
    "#Displaying top 3 items and their ratio\n",
    "top3=imt[['other_uses_to_domestic_supply_quantity']]\n",
    "top3.head(3)"
   ]
  },
  {
   "cell_type": "markdown",
   "id": "87da5fa2",
   "metadata": {},
   "source": [
    "<b>Identify major trends - Task 5.5.2: Considering the 25 items most exported by the countries with a high rate of undernutrition, which three of them have the greatest feed to (food+feed) ratio and what are they used for?<b>"
   ]
  },
  {
   "cell_type": "code",
   "execution_count": 19,
   "id": "c474a60e",
   "metadata": {},
   "outputs": [
    {
     "data": {
      "text/html": [
       "<div>\n",
       "<style scoped>\n",
       "    .dataframe tbody tr th:only-of-type {\n",
       "        vertical-align: middle;\n",
       "    }\n",
       "\n",
       "    .dataframe tbody tr th {\n",
       "        vertical-align: top;\n",
       "    }\n",
       "\n",
       "    .dataframe thead th {\n",
       "        text-align: right;\n",
       "    }\n",
       "</style>\n",
       "<table border=\"1\" class=\"dataframe\">\n",
       "  <thead>\n",
       "    <tr style=\"text-align: right;\">\n",
       "      <th></th>\n",
       "      <th>feed_to_food_plus_feed</th>\n",
       "    </tr>\n",
       "    <tr>\n",
       "      <th>item</th>\n",
       "      <th></th>\n",
       "    </tr>\n",
       "  </thead>\n",
       "  <tbody>\n",
       "    <tr>\n",
       "      <th>Maize and products</th>\n",
       "      <td>0.41</td>\n",
       "    </tr>\n",
       "    <tr>\n",
       "      <th>Pelagic Fish</th>\n",
       "      <td>0.24</td>\n",
       "    </tr>\n",
       "    <tr>\n",
       "      <th>Sesame seed</th>\n",
       "      <td>0.11</td>\n",
       "    </tr>\n",
       "  </tbody>\n",
       "</table>\n",
       "</div>"
      ],
      "text/plain": [
       "                    feed_to_food_plus_feed\n",
       "item                                      \n",
       "Maize and products                    0.41\n",
       "Pelagic Fish                          0.24\n",
       "Sesame seed                           0.11"
      ]
     },
     "execution_count": 19,
     "metadata": {},
     "output_type": "execute_result"
    }
   ],
   "source": [
    "#Creating a new dframe imt (Identify Major Trends) by filtering out the False values from the main dframe\n",
    "imt2=cnv4.loc[(cnv4['great_import_from_undern_countries']==True) & (cnv4['year']==givenyear)].groupby(by=['item']).sum()\n",
    "#Calculating ratio\n",
    "imt2['feed_to_food_plus_feed']=imt2['feed']/(imt2['food']+imt2['feed'])\n",
    "#Sorting values in descending manner\n",
    "imt2=imt2.sort_values(by=['feed_to_food_plus_feed'], ascending=False)\n",
    "#Displaying top 3 items and their ratio\n",
    "topthree=imt2[['feed_to_food_plus_feed']]\n",
    "topthree.head(3)"
   ]
  },
  {
   "cell_type": "markdown",
   "id": "718ee87c",
   "metadata": {},
   "source": [
    "<b>Identify major trends - Task 5.6: Taking only grains (cereals) for food and feed into account, what proportion (in terms of weight) is used for feed?<b>"
   ]
  },
  {
   "cell_type": "code",
   "execution_count": 20,
   "id": "dcfd30ea",
   "metadata": {},
   "outputs": [
    {
     "name": "stdout",
     "output_type": "stream",
     "text": [
      "42.47% of grains are used for feed\n"
     ]
    }
   ],
   "source": [
    "#Storing the items found in our cereals extraction (from FAO's site) as series.\n",
    "cereals=pd.Series(cer.Item)\n",
    "#Creating a dframe where only grains (cereals) are considered.\n",
    "imt3=cnv4.loc[(cnv4['item'].isin(cereals)) & (cnv4['year']==givenyear)].groupby(by=['item']).sum()\n",
    "#Sum of cereals used for food\n",
    "cerfood=imt3['food'].sum()\n",
    "#Sum of cereals used for feed\n",
    "cerfeed=imt3['feed'].sum()\n",
    "#Cereals used for food and feed\n",
    "certotal=cerfood+cerfeed\n",
    "#Calculating the proportion of the feed by taking only food and feed values into account.\n",
    "feedprop=cerfeed*100/certotal\n",
    "\n",
    "print(f\"{feedprop:.2f}% of grains are used for feed\")"
   ]
  },
  {
   "cell_type": "markdown",
   "id": "66c2bc87",
   "metadata": {},
   "source": [
    "<b>Identify major trends - Task 5.7: How many tons of grains (cereals) could be released if the US reduced its production of animal products by 10%? Convert this quantity to kcal, and the number of potentially fed humans.<b>"
   ]
  },
  {
   "cell_type": "code",
   "execution_count": 21,
   "id": "2b1b0429",
   "metadata": {},
   "outputs": [
    {
     "name": "stdout",
     "output_type": "stream",
     "text": [
      "15813600 tons of grains could be released if the US spent 10% less grains on feeding.\n",
      "The same value in terms of kcal would be 44096976704151 or 67118686 potentially fed humans.\n"
     ]
    }
   ],
   "source": [
    "#Creating a dframe that contains only cereal values for the US\n",
    "imt4=cnv4.loc[(cnv4['item'].isin(cereals)) & (cnv4['year']==givenyear) & (cnv4['country']=='United States of America')].groupby(by=['item']).sum()\n",
    "#The amount used for feeding in kilotons\n",
    "feedsum=imt4['feed'].sum()\n",
    "#The amount of total calories for the lines in the dframe\n",
    "qtykcal=imt4['dom_sup_kcal'].sum()\n",
    "#The total amount of cereals (regardless of their use)\n",
    "qtysupply=imt4['domestic_supply_quantity'].sum()\n",
    "#Result for 10% of US grains used for feeding. Converting from kilotons to tons to answer the question.\n",
    "restons=feedsum/10*1000\n",
    "#Calculating how much kcals are there in the restons by a rule of three. We are converting qtysupply to tons instead of kilotons \n",
    "#because it needs to be in the same units as restons which is in tons due to previous calculation\n",
    "reskcal=qtykcal/(qtysupply*1000/restons)\n",
    "#Calculating how many humans could potentially be fed with the 10% of the supply currently used for feeding.\n",
    "potfhum=reskcal/365/kcalreq\n",
    "#print(feedsum, qtykcal, qtysupply, reskcal)\n",
    "print(f\"{restons:.0f} tons of grains could be released if the US spent 10% less grains on feeding.\")\n",
    "print(f\"The same value in terms of kcal would be {reskcal:.0f} or {potfhum:.0f} potentially fed humans.\")"
   ]
  },
  {
   "cell_type": "markdown",
   "id": "aba40cf7",
   "metadata": {},
   "source": [
    "<b>Identify major trends - Task 5.8.1: In Thailand, what proportion of cassava is exported? <b>"
   ]
  },
  {
   "cell_type": "code",
   "execution_count": 22,
   "id": "502885eb",
   "metadata": {},
   "outputs": [
    {
     "name": "stdout",
     "output_type": "stream",
     "text": [
      "The proportion of exported cassava in Thailand is: 75.35%\n"
     ]
    }
   ],
   "source": [
    "#Creating a new dframe casprop (Cassava Proportion) by filtering out the unnecessary values from the main dframe\n",
    "tempdf=cnv4.loc[(cnv4['country']=='Thailand') & (cnv4['item']=='Cassava and products') & (cnv4['year']==givenyear)]\n",
    "#Calculating cassava exportion ratio\n",
    "tempdf['cassava_export_ratio']=tempdf['export_quantity']/tempdf['domestic_supply_quantity']\n",
    "casprop=float(tempdf['export_quantity']*100/tempdf['domestic_supply_quantity'])\n",
    "print(f\"The proportion of exported cassava in Thailand is: {casprop:.2f}%\")"
   ]
  },
  {
   "cell_type": "markdown",
   "id": "80bacd85",
   "metadata": {},
   "source": [
    "<b>Identify major trends - Task 5.8.2: In Thailand, what is the proportion of undernutrition?<b>"
   ]
  },
  {
   "cell_type": "code",
   "execution_count": 23,
   "id": "0b9d6283",
   "metadata": {},
   "outputs": [
    {
     "name": "stdout",
     "output_type": "stream",
     "text": [
      "The proportion of undernutrition in Thailand is: 7.90%\n"
     ]
    }
   ],
   "source": [
    "tunprop=float(un.loc[(un['country']=='Thailand'),['undernourishment']].sum()*100)\n",
    "print(f\"The proportion of undernutrition in Thailand is: {tunprop:.2f}%\")"
   ]
  }
 ],
 "metadata": {
  "kernelspec": {
   "display_name": "Python 3 (ipykernel)",
   "language": "python",
   "name": "python3"
  },
  "language_info": {
   "codemirror_mode": {
    "name": "ipython",
    "version": 3
   },
   "file_extension": ".py",
   "mimetype": "text/x-python",
   "name": "python",
   "nbconvert_exporter": "python",
   "pygments_lexer": "ipython3",
   "version": "3.9.13"
  }
 },
 "nbformat": 4,
 "nbformat_minor": 5
}
